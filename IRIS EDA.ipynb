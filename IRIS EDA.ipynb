{
 "cells": [
  {
   "cell_type": "code",
   "execution_count": 1,
   "id": "ebce32fa",
   "metadata": {},
   "outputs": [],
   "source": [
    "#importing pandas for processing the data\n",
    "import pandas as pd\n",
    "# importing preprocessing libraries, classifiers\n",
    "import numpy as np\n",
    "#Importing time for caluclating latency\n",
    "import time\n",
    "#importing logistic regression \n",
    "from sklearn.linear_model import LogisticRegression\n",
    "#importing train_test_split for splitting training and testing data\n",
    "from sklearn.model_selection import train_test_split\n",
    "#importing kfold for performing cross validation\n",
    "from sklearn.model_selection import KFold\n",
    "#importing Random forest classifier\n",
    "from sklearn.ensemble import RandomForestClassifier\n",
    "#importing gridsearch to perform gridsearch\n",
    "from sklearn.model_selection import GridSearchCV\n",
    "# used for feature scaling\n",
    "from sklearn.preprocessing import StandardScaler\n",
    "#to caluclate precision, recall and accuracy\n",
    "from sklearn.metrics import precision_score, recall_score, accuracy_score\n",
    "#used for encoding categorical data\n",
    "from sklearn.preprocessing import LabelEncoder\n",
    "#Caluclating the accuracy\n",
    "from sklearn.metrics import accuracy_score\n",
    "import seaborn as sns\n",
    "import matplotlib.pyplot as plt"
   ]
  },
  {
   "cell_type": "code",
   "execution_count": 2,
   "id": "58c6b017",
   "metadata": {},
   "outputs": [],
   "source": [
    "#Reading the dataset\n",
    "ds = pd.read_csv(\"D:\\AI\\Machine Learning Frameworks - AIDI1003/iris.csv\")"
   ]
  },
  {
   "cell_type": "code",
   "execution_count": 3,
   "id": "ba189410",
   "metadata": {},
   "outputs": [
    {
     "data": {
      "text/html": [
       "<div>\n",
       "<style scoped>\n",
       "    .dataframe tbody tr th:only-of-type {\n",
       "        vertical-align: middle;\n",
       "    }\n",
       "\n",
       "    .dataframe tbody tr th {\n",
       "        vertical-align: top;\n",
       "    }\n",
       "\n",
       "    .dataframe thead th {\n",
       "        text-align: right;\n",
       "    }\n",
       "</style>\n",
       "<table border=\"1\" class=\"dataframe\">\n",
       "  <thead>\n",
       "    <tr style=\"text-align: right;\">\n",
       "      <th></th>\n",
       "      <th>sepal.length</th>\n",
       "      <th>sepal.width</th>\n",
       "      <th>petal.length</th>\n",
       "      <th>petal.width</th>\n",
       "      <th>variety</th>\n",
       "    </tr>\n",
       "  </thead>\n",
       "  <tbody>\n",
       "    <tr>\n",
       "      <th>0</th>\n",
       "      <td>5.1</td>\n",
       "      <td>3.5</td>\n",
       "      <td>1.4</td>\n",
       "      <td>0.2</td>\n",
       "      <td>Setosa</td>\n",
       "    </tr>\n",
       "    <tr>\n",
       "      <th>1</th>\n",
       "      <td>4.9</td>\n",
       "      <td>3.0</td>\n",
       "      <td>1.4</td>\n",
       "      <td>0.2</td>\n",
       "      <td>Setosa</td>\n",
       "    </tr>\n",
       "    <tr>\n",
       "      <th>2</th>\n",
       "      <td>4.7</td>\n",
       "      <td>3.2</td>\n",
       "      <td>1.3</td>\n",
       "      <td>0.2</td>\n",
       "      <td>Setosa</td>\n",
       "    </tr>\n",
       "    <tr>\n",
       "      <th>3</th>\n",
       "      <td>4.6</td>\n",
       "      <td>3.1</td>\n",
       "      <td>1.5</td>\n",
       "      <td>0.2</td>\n",
       "      <td>Setosa</td>\n",
       "    </tr>\n",
       "    <tr>\n",
       "      <th>4</th>\n",
       "      <td>5.0</td>\n",
       "      <td>3.6</td>\n",
       "      <td>1.4</td>\n",
       "      <td>0.2</td>\n",
       "      <td>Setosa</td>\n",
       "    </tr>\n",
       "  </tbody>\n",
       "</table>\n",
       "</div>"
      ],
      "text/plain": [
       "   sepal.length  sepal.width  petal.length  petal.width variety\n",
       "0           5.1          3.5           1.4          0.2  Setosa\n",
       "1           4.9          3.0           1.4          0.2  Setosa\n",
       "2           4.7          3.2           1.3          0.2  Setosa\n",
       "3           4.6          3.1           1.5          0.2  Setosa\n",
       "4           5.0          3.6           1.4          0.2  Setosa"
      ]
     },
     "execution_count": 3,
     "metadata": {},
     "output_type": "execute_result"
    }
   ],
   "source": [
    "# Printing the first 5 rows of the csv file\n",
    "ds.head()"
   ]
  },
  {
   "cell_type": "code",
   "execution_count": 4,
   "id": "e91f62ec",
   "metadata": {},
   "outputs": [
    {
     "data": {
      "text/plain": [
       "(150, 5)"
      ]
     },
     "execution_count": 4,
     "metadata": {},
     "output_type": "execute_result"
    }
   ],
   "source": [
    "#Getting the shape of the dataset\n",
    "ds.shape"
   ]
  },
  {
   "cell_type": "code",
   "execution_count": 5,
   "id": "5defeb27",
   "metadata": {},
   "outputs": [
    {
     "name": "stdout",
     "output_type": "stream",
     "text": [
      "<class 'pandas.core.frame.DataFrame'>\n",
      "RangeIndex: 150 entries, 0 to 149\n",
      "Data columns (total 5 columns):\n",
      " #   Column        Non-Null Count  Dtype  \n",
      "---  ------        --------------  -----  \n",
      " 0   sepal.length  150 non-null    float64\n",
      " 1   sepal.width   150 non-null    float64\n",
      " 2   petal.length  150 non-null    float64\n",
      " 3   petal.width   150 non-null    float64\n",
      " 4   variety       150 non-null    object \n",
      "dtypes: float64(4), object(1)\n",
      "memory usage: 6.0+ KB\n"
     ]
    }
   ],
   "source": [
    "#Getting the information of coloumns\n",
    "ds.info()"
   ]
  },
  {
   "cell_type": "code",
   "execution_count": 6,
   "id": "319b9dd9",
   "metadata": {},
   "outputs": [
    {
     "data": {
      "text/html": [
       "<div>\n",
       "<style scoped>\n",
       "    .dataframe tbody tr th:only-of-type {\n",
       "        vertical-align: middle;\n",
       "    }\n",
       "\n",
       "    .dataframe tbody tr th {\n",
       "        vertical-align: top;\n",
       "    }\n",
       "\n",
       "    .dataframe thead th {\n",
       "        text-align: right;\n",
       "    }\n",
       "</style>\n",
       "<table border=\"1\" class=\"dataframe\">\n",
       "  <thead>\n",
       "    <tr style=\"text-align: right;\">\n",
       "      <th></th>\n",
       "      <th>sepal.length</th>\n",
       "      <th>sepal.width</th>\n",
       "      <th>petal.length</th>\n",
       "      <th>petal.width</th>\n",
       "    </tr>\n",
       "  </thead>\n",
       "  <tbody>\n",
       "    <tr>\n",
       "      <th>count</th>\n",
       "      <td>150.000000</td>\n",
       "      <td>150.000000</td>\n",
       "      <td>150.000000</td>\n",
       "      <td>150.000000</td>\n",
       "    </tr>\n",
       "    <tr>\n",
       "      <th>mean</th>\n",
       "      <td>5.843333</td>\n",
       "      <td>3.057333</td>\n",
       "      <td>3.758000</td>\n",
       "      <td>1.199333</td>\n",
       "    </tr>\n",
       "    <tr>\n",
       "      <th>std</th>\n",
       "      <td>0.828066</td>\n",
       "      <td>0.435866</td>\n",
       "      <td>1.765298</td>\n",
       "      <td>0.762238</td>\n",
       "    </tr>\n",
       "    <tr>\n",
       "      <th>min</th>\n",
       "      <td>4.300000</td>\n",
       "      <td>2.000000</td>\n",
       "      <td>1.000000</td>\n",
       "      <td>0.100000</td>\n",
       "    </tr>\n",
       "    <tr>\n",
       "      <th>25%</th>\n",
       "      <td>5.100000</td>\n",
       "      <td>2.800000</td>\n",
       "      <td>1.600000</td>\n",
       "      <td>0.300000</td>\n",
       "    </tr>\n",
       "    <tr>\n",
       "      <th>50%</th>\n",
       "      <td>5.800000</td>\n",
       "      <td>3.000000</td>\n",
       "      <td>4.350000</td>\n",
       "      <td>1.300000</td>\n",
       "    </tr>\n",
       "    <tr>\n",
       "      <th>75%</th>\n",
       "      <td>6.400000</td>\n",
       "      <td>3.300000</td>\n",
       "      <td>5.100000</td>\n",
       "      <td>1.800000</td>\n",
       "    </tr>\n",
       "    <tr>\n",
       "      <th>max</th>\n",
       "      <td>7.900000</td>\n",
       "      <td>4.400000</td>\n",
       "      <td>6.900000</td>\n",
       "      <td>2.500000</td>\n",
       "    </tr>\n",
       "  </tbody>\n",
       "</table>\n",
       "</div>"
      ],
      "text/plain": [
       "       sepal.length  sepal.width  petal.length  petal.width\n",
       "count    150.000000   150.000000    150.000000   150.000000\n",
       "mean       5.843333     3.057333      3.758000     1.199333\n",
       "std        0.828066     0.435866      1.765298     0.762238\n",
       "min        4.300000     2.000000      1.000000     0.100000\n",
       "25%        5.100000     2.800000      1.600000     0.300000\n",
       "50%        5.800000     3.000000      4.350000     1.300000\n",
       "75%        6.400000     3.300000      5.100000     1.800000\n",
       "max        7.900000     4.400000      6.900000     2.500000"
      ]
     },
     "execution_count": 6,
     "metadata": {},
     "output_type": "execute_result"
    }
   ],
   "source": [
    "#Getting the statistical details of the dataset\n",
    "stats = ds.describe()\n",
    "stats"
   ]
  },
  {
   "cell_type": "code",
   "execution_count": 7,
   "id": "1d893d62",
   "metadata": {},
   "outputs": [
    {
     "data": {
      "text/plain": [
       "sepal.length    0\n",
       "sepal.width     0\n",
       "petal.length    0\n",
       "petal.width     0\n",
       "variety         0\n",
       "dtype: int64"
      ]
     },
     "execution_count": 7,
     "metadata": {},
     "output_type": "execute_result"
    }
   ],
   "source": [
    "#Checking for the null values in the dataset\n",
    "ds.isnull().sum()"
   ]
  },
  {
   "cell_type": "code",
   "execution_count": 8,
   "id": "166d44dc",
   "metadata": {},
   "outputs": [
    {
     "data": {
      "text/html": [
       "<div>\n",
       "<style scoped>\n",
       "    .dataframe tbody tr th:only-of-type {\n",
       "        vertical-align: middle;\n",
       "    }\n",
       "\n",
       "    .dataframe tbody tr th {\n",
       "        vertical-align: top;\n",
       "    }\n",
       "\n",
       "    .dataframe thead th {\n",
       "        text-align: right;\n",
       "    }\n",
       "</style>\n",
       "<table border=\"1\" class=\"dataframe\">\n",
       "  <thead>\n",
       "    <tr style=\"text-align: right;\">\n",
       "      <th></th>\n",
       "      <th>sepal.length</th>\n",
       "      <th>sepal.width</th>\n",
       "      <th>petal.length</th>\n",
       "      <th>petal.width</th>\n",
       "      <th>variety</th>\n",
       "    </tr>\n",
       "  </thead>\n",
       "  <tbody>\n",
       "    <tr>\n",
       "      <th>0</th>\n",
       "      <td>5.1</td>\n",
       "      <td>3.5</td>\n",
       "      <td>1.4</td>\n",
       "      <td>0.2</td>\n",
       "      <td>Setosa</td>\n",
       "    </tr>\n",
       "    <tr>\n",
       "      <th>50</th>\n",
       "      <td>7.0</td>\n",
       "      <td>3.2</td>\n",
       "      <td>4.7</td>\n",
       "      <td>1.4</td>\n",
       "      <td>Versicolor</td>\n",
       "    </tr>\n",
       "    <tr>\n",
       "      <th>100</th>\n",
       "      <td>6.3</td>\n",
       "      <td>3.3</td>\n",
       "      <td>6.0</td>\n",
       "      <td>2.5</td>\n",
       "      <td>Virginica</td>\n",
       "    </tr>\n",
       "  </tbody>\n",
       "</table>\n",
       "</div>"
      ],
      "text/plain": [
       "     sepal.length  sepal.width  petal.length  petal.width     variety\n",
       "0             5.1          3.5           1.4          0.2      Setosa\n",
       "50            7.0          3.2           4.7          1.4  Versicolor\n",
       "100           6.3          3.3           6.0          2.5   Virginica"
      ]
     },
     "execution_count": 8,
     "metadata": {},
     "output_type": "execute_result"
    }
   ],
   "source": [
    "#Checking for the duplicate values in the dataset\n",
    "data = ds.drop_duplicates(subset =\"variety\",)\n",
    "data"
   ]
  },
  {
   "cell_type": "code",
   "execution_count": 9,
   "id": "95eef0e3",
   "metadata": {},
   "outputs": [
    {
     "data": {
      "text/plain": [
       "variety\n",
       "Setosa        50\n",
       "Versicolor    50\n",
       "Virginica     50\n",
       "dtype: int64"
      ]
     },
     "execution_count": 9,
     "metadata": {},
     "output_type": "execute_result"
    }
   ],
   "source": [
    "#Checking the rows count\n",
    "ds.value_counts(\"variety\")"
   ]
  },
  {
   "cell_type": "code",
   "execution_count": 10,
   "id": "e2be5a86",
   "metadata": {},
   "outputs": [
    {
     "data": {
      "text/html": [
       "<div>\n",
       "<style scoped>\n",
       "    .dataframe tbody tr th:only-of-type {\n",
       "        vertical-align: middle;\n",
       "    }\n",
       "\n",
       "    .dataframe tbody tr th {\n",
       "        vertical-align: top;\n",
       "    }\n",
       "\n",
       "    .dataframe thead th {\n",
       "        text-align: right;\n",
       "    }\n",
       "</style>\n",
       "<table border=\"1\" class=\"dataframe\">\n",
       "  <thead>\n",
       "    <tr style=\"text-align: right;\">\n",
       "      <th></th>\n",
       "      <th>sepal.length</th>\n",
       "      <th>sepal.width</th>\n",
       "      <th>petal.length</th>\n",
       "      <th>petal.width</th>\n",
       "    </tr>\n",
       "    <tr>\n",
       "      <th>variety</th>\n",
       "      <th></th>\n",
       "      <th></th>\n",
       "      <th></th>\n",
       "      <th></th>\n",
       "    </tr>\n",
       "  </thead>\n",
       "  <tbody>\n",
       "    <tr>\n",
       "      <th>Setosa</th>\n",
       "      <td>5.0</td>\n",
       "      <td>3.4</td>\n",
       "      <td>1.50</td>\n",
       "      <td>0.2</td>\n",
       "    </tr>\n",
       "    <tr>\n",
       "      <th>Versicolor</th>\n",
       "      <td>5.9</td>\n",
       "      <td>2.8</td>\n",
       "      <td>4.35</td>\n",
       "      <td>1.3</td>\n",
       "    </tr>\n",
       "    <tr>\n",
       "      <th>Virginica</th>\n",
       "      <td>6.5</td>\n",
       "      <td>3.0</td>\n",
       "      <td>5.55</td>\n",
       "      <td>2.0</td>\n",
       "    </tr>\n",
       "  </tbody>\n",
       "</table>\n",
       "</div>"
      ],
      "text/plain": [
       "            sepal.length  sepal.width  petal.length  petal.width\n",
       "variety                                                         \n",
       "Setosa               5.0          3.4          1.50          0.2\n",
       "Versicolor           5.9          2.8          4.35          1.3\n",
       "Virginica            6.5          3.0          5.55          2.0"
      ]
     },
     "execution_count": 10,
     "metadata": {},
     "output_type": "execute_result"
    }
   ],
   "source": [
    "#calculating the median of each variety\n",
    "x = ds.groupby('variety').median()\n",
    "x"
   ]
  },
  {
   "cell_type": "code",
   "execution_count": 11,
   "id": "dab80fc4",
   "metadata": {},
   "outputs": [
    {
     "data": {
      "text/html": [
       "<div>\n",
       "<style scoped>\n",
       "    .dataframe tbody tr th:only-of-type {\n",
       "        vertical-align: middle;\n",
       "    }\n",
       "\n",
       "    .dataframe tbody tr th {\n",
       "        vertical-align: top;\n",
       "    }\n",
       "\n",
       "    .dataframe thead th {\n",
       "        text-align: right;\n",
       "    }\n",
       "</style>\n",
       "<table border=\"1\" class=\"dataframe\">\n",
       "  <thead>\n",
       "    <tr style=\"text-align: right;\">\n",
       "      <th></th>\n",
       "      <th>sepal.length</th>\n",
       "      <th>sepal.width</th>\n",
       "      <th>petal.length</th>\n",
       "      <th>petal.width</th>\n",
       "    </tr>\n",
       "  </thead>\n",
       "  <tbody>\n",
       "    <tr>\n",
       "      <th>mean</th>\n",
       "      <td>5.843333</td>\n",
       "      <td>3.057333</td>\n",
       "      <td>3.758</td>\n",
       "      <td>1.199333</td>\n",
       "    </tr>\n",
       "    <tr>\n",
       "      <th>range</th>\n",
       "      <td>3.600000</td>\n",
       "      <td>2.400000</td>\n",
       "      <td>5.900</td>\n",
       "      <td>2.400000</td>\n",
       "    </tr>\n",
       "    <tr>\n",
       "      <th>25%</th>\n",
       "      <td>5.100000</td>\n",
       "      <td>2.800000</td>\n",
       "      <td>1.600</td>\n",
       "      <td>0.300000</td>\n",
       "    </tr>\n",
       "    <tr>\n",
       "      <th>median</th>\n",
       "      <td>5.800000</td>\n",
       "      <td>3.000000</td>\n",
       "      <td>4.350</td>\n",
       "      <td>1.300000</td>\n",
       "    </tr>\n",
       "    <tr>\n",
       "      <th>75%</th>\n",
       "      <td>6.400000</td>\n",
       "      <td>3.300000</td>\n",
       "      <td>5.100</td>\n",
       "      <td>1.800000</td>\n",
       "    </tr>\n",
       "  </tbody>\n",
       "</table>\n",
       "</div>"
      ],
      "text/plain": [
       "        sepal.length  sepal.width  petal.length  petal.width\n",
       "mean        5.843333     3.057333         3.758     1.199333\n",
       "range       3.600000     2.400000         5.900     2.400000\n",
       "25%         5.100000     2.800000         1.600     0.300000\n",
       "median      5.800000     3.000000         4.350     1.300000\n",
       "75%         6.400000     3.300000         5.100     1.800000"
      ]
     },
     "execution_count": 11,
     "metadata": {},
     "output_type": "execute_result"
    }
   ],
   "source": [
    "#caluclating the range and moving coloumns of mean, median into a data frame\n",
    "stats.loc['range'] = stats.loc['max'] - stats.loc['min']\n",
    "new_ds = stats.loc[['mean', 'range', '25%', '50%', '75%']]\n",
    "new_ds.rename({'50%': 'median'}, inplace=True)\n",
    "new_ds"
   ]
  },
  {
   "cell_type": "code",
   "execution_count": 12,
   "id": "fcc4f891",
   "metadata": {},
   "outputs": [
    {
     "data": {
      "image/png": "[encoded data removed]",
      "text/plain": [
       "<Figure size 640x480 with 1 Axes>"
      ]
     },
     "metadata": {},
     "output_type": "display_data"
    }
   ],
   "source": [
    "#Visualisation of Data\n",
    "# importing packages required\n",
    "%matplotlib inline\n",
    "\n",
    "sns.countplot(x='variety', data=ds, )\n",
    "plt.show()"
   ]
  },
  {
   "cell_type": "code",
   "execution_count": null,
   "id": "05a306fd",
   "metadata": {},
   "outputs": [],
   "source": [
    "#In the above histogam you can see all the count of setosa, versicolor and virginica"
   ]
  },
  {
   "cell_type": "code",
   "execution_count": 13,
   "id": "2c6a4d07",
   "metadata": {},
   "outputs": [
    {
     "data": {
      "image/png": "[encoded data removed]",
      "text/plain": [
       "<Figure size 1000x1000 with 4 Axes>"
      ]
     },
     "metadata": {},
     "output_type": "display_data"
    }
   ],
   "source": [
    "#Exploring the features of the dataset using Histograms\n",
    "fig, axes = plt.subplots(2, 2, figsize=(10,10))\n",
    "\n",
    "axes[0,0].set_title(\"sepal.length\")\n",
    "axes[0,0].hist(ds['sepal.length'], bins=7)\n",
    "\n",
    "axes[0,1].set_title(\"sepal.width\")\n",
    "axes[0,1].hist(ds['sepal.width'], bins=5);\n",
    "\n",
    "axes[1,0].set_title(\"petal.length\")\n",
    "axes[1,0].hist(ds['petal.length'], bins=6);\n",
    "\n",
    "axes[1,1].set_title(\"petal.width\")\n",
    "axes[1,1].hist(ds['petal.width'], bins=6);\n"
   ]
  },
  {
   "cell_type": "code",
   "execution_count": null,
   "id": "065a235a",
   "metadata": {},
   "outputs": [],
   "source": [
    "#The above histograms are for evaluating the sepal.lenght, sepal.width, petal.length and petal.width"
   ]
  },
  {
   "cell_type": "code",
   "execution_count": 14,
   "id": "7f19840a",
   "metadata": {},
   "outputs": [
    {
     "data": {
      "image/png": "[encoded data removed]",
      "text/plain": [
       "<Figure size 417.875x300 with 1 Axes>"
      ]
     },
     "metadata": {},
     "output_type": "display_data"
    },
    {
     "data": {
      "image/png": "[encoded data removed]",
      "text/plain": [
       "<Figure size 417.875x300 with 1 Axes>"
      ]
     },
     "metadata": {},
     "output_type": "display_data"
    },
    {
     "data": {
      "image/png": "[encoded data removed]",
      "text/plain": [
       "<Figure size 417.875x300 with 1 Axes>"
      ]
     },
     "metadata": {},
     "output_type": "display_data"
    },
    {
     "data": {
      "image/png": "[encoded data removed]",
      "text/plain": [
       "<Figure size 417.875x300 with 1 Axes>"
      ]
     },
     "metadata": {},
     "output_type": "display_data"
    }
   ],
   "source": [
    "#Histograms with displot to depict the variation in data distribution\n",
    "plot = sns.FacetGrid(ds, hue=\"variety\")\n",
    "plot.map(sns.histplot, \"sepal.length\").add_legend()\n",
    "\n",
    "plot = sns.FacetGrid(ds, hue=\"variety\")\n",
    "plot.map(sns.histplot, \"sepal.width\").add_legend()\n",
    "\n",
    "plot = sns.FacetGrid(ds, hue=\"variety\")\n",
    "plot.map(sns.histplot, \"petal.length\").add_legend()\n",
    "\n",
    "plot = sns.FacetGrid(ds, hue=\"variety\")\n",
    "plot.map(sns.histplot, \"petal.width\").add_legend()\n",
    "\n",
    "plt.show()\n"
   ]
  },
  {
   "cell_type": "code",
   "execution_count": null,
   "id": "415f5627",
   "metadata": {},
   "outputs": [],
   "source": [
    "#in the above histograms we can observe all the varietys distribution of data."
   ]
  },
  {
   "cell_type": "code",
   "execution_count": 15,
   "id": "f7e50a55",
   "metadata": {},
   "outputs": [],
   "source": [
    "#Encoding target variable\n",
    "from sklearn.preprocessing import LabelEncoder\n",
    "le = LabelEncoder()\n",
    "#creating instance of a label encoder\n",
    "encode = LabelEncoder()"
   ]
  },
  {
   "cell_type": "code",
   "execution_count": 16,
   "id": "bd5f396c",
   "metadata": {},
   "outputs": [
    {
     "data": {
      "text/html": [
       "<div>\n",
       "<style scoped>\n",
       "    .dataframe tbody tr th:only-of-type {\n",
       "        vertical-align: middle;\n",
       "    }\n",
       "\n",
       "    .dataframe tbody tr th {\n",
       "        vertical-align: top;\n",
       "    }\n",
       "\n",
       "    .dataframe thead th {\n",
       "        text-align: right;\n",
       "    }\n",
       "</style>\n",
       "<table border=\"1\" class=\"dataframe\">\n",
       "  <thead>\n",
       "    <tr style=\"text-align: right;\">\n",
       "      <th></th>\n",
       "      <th>sepal.length</th>\n",
       "      <th>sepal.width</th>\n",
       "      <th>petal.length</th>\n",
       "      <th>petal.width</th>\n",
       "      <th>variety</th>\n",
       "    </tr>\n",
       "  </thead>\n",
       "  <tbody>\n",
       "    <tr>\n",
       "      <th>0</th>\n",
       "      <td>5.1</td>\n",
       "      <td>3.5</td>\n",
       "      <td>1.4</td>\n",
       "      <td>0.2</td>\n",
       "      <td>0</td>\n",
       "    </tr>\n",
       "    <tr>\n",
       "      <th>1</th>\n",
       "      <td>4.9</td>\n",
       "      <td>3.0</td>\n",
       "      <td>1.4</td>\n",
       "      <td>0.2</td>\n",
       "      <td>0</td>\n",
       "    </tr>\n",
       "    <tr>\n",
       "      <th>2</th>\n",
       "      <td>4.7</td>\n",
       "      <td>3.2</td>\n",
       "      <td>1.3</td>\n",
       "      <td>0.2</td>\n",
       "      <td>0</td>\n",
       "    </tr>\n",
       "    <tr>\n",
       "      <th>3</th>\n",
       "      <td>4.6</td>\n",
       "      <td>3.1</td>\n",
       "      <td>1.5</td>\n",
       "      <td>0.2</td>\n",
       "      <td>0</td>\n",
       "    </tr>\n",
       "    <tr>\n",
       "      <th>4</th>\n",
       "      <td>5.0</td>\n",
       "      <td>3.6</td>\n",
       "      <td>1.4</td>\n",
       "      <td>0.2</td>\n",
       "      <td>0</td>\n",
       "    </tr>\n",
       "  </tbody>\n",
       "</table>\n",
       "</div>"
      ],
      "text/plain": [
       "   sepal.length  sepal.width  petal.length  petal.width  variety\n",
       "0           5.1          3.5           1.4          0.2        0\n",
       "1           4.9          3.0           1.4          0.2        0\n",
       "2           4.7          3.2           1.3          0.2        0\n",
       "3           4.6          3.1           1.5          0.2        0\n",
       "4           5.0          3.6           1.4          0.2        0"
      ]
     },
     "execution_count": 16,
     "metadata": {},
     "output_type": "execute_result"
    }
   ],
   "source": [
    "#Assigning numerical values and storing in the same name column 'variety'\n",
    "ds['variety'] = le.fit_transform(ds['variety'])\n",
    "ds.head()"
   ]
  },
  {
   "cell_type": "code",
   "execution_count": 17,
   "id": "215fadd0",
   "metadata": {},
   "outputs": [
    {
     "name": "stdout",
     "output_type": "stream",
     "text": [
      "(112, 4)\n",
      "(38, 4)\n",
      "(112,)\n",
      "(38,)\n"
     ]
    }
   ],
   "source": [
    "# Splitting the dataset into the Training, Test and validation set\n",
    "X = ds.drop(columns=['variety'])\n",
    "Y = ds['variety']\n",
    "X_train, X_test, y_train, y_test = train_test_split(X, Y)\n",
    "\n",
    "print(X_train.shape)\n",
    "print(X_test.shape)\n",
    "print(y_train.shape)\n",
    "print(y_test.shape)"
   ]
  },
  {
   "cell_type": "code",
   "execution_count": 18,
   "id": "98bcbca0",
   "metadata": {},
   "outputs": [
    {
     "name": "stdout",
     "output_type": "stream",
     "text": [
      "Training set shape:  (90, 4) (90,)\n",
      "Validation set shape:  (30, 4) (30,)\n",
      "Test set shape:  (30, 4) (30,)\n"
     ]
    }
   ],
   "source": [
    "#Splitting dataset with a ratio of 60% for training, 20% for validation, and 20% for testing\n",
    "# Split the data into training and testing sets\n",
    "X_train, X_test, y_train, y_test = train_test_split(X, Y, test_size=0.2)\n",
    "\n",
    "# Split the training set further into training and validation sets\n",
    "X_train, X_val, y_train, y_val = train_test_split(X_train, y_train, test_size=0.25)\n",
    "\n",
    "# Verify the shapes of the resulting sets\n",
    "print(\"Training set shape: \", X_train.shape, y_train.shape)\n",
    "print(\"Validation set shape: \", X_val.shape, y_val.shape)\n",
    "print(\"Test set shape: \", X_test.shape, y_test.shape)"
   ]
  },
  {
   "cell_type": "code",
   "execution_count": 19,
   "id": "5ba0c131",
   "metadata": {},
   "outputs": [
    {
     "name": "stdout",
     "output_type": "stream",
     "text": [
      "Best hyperparameters: {'criterion': 'entropy', 'max_depth': 9, 'n_estimators': 15}\n",
      "Test Precision: 0.877\n",
      "Test Recall: 0.867\n",
      "Test Accuracy: 0.867\n",
      "Latency: 2.633\n",
      "Validation Precision: 1.000\n",
      "Validation Recall: 1.000\n",
      "Validation Accuracy: 1.000\n",
      "Latency: 2.633\n"
     ]
    }
   ],
   "source": [
    "#Performing random forest algorirhthm\n",
    "# Defining the hyperparameters grid\n",
    "param_grid = {\"n_estimators\": [5, 10, 15, 20, 25],\"max_depth\": [3, 5, 7, 9, None],\"criterion\": [\"gini\", \"entropy\"]}\n",
    "\n",
    "# Initialize the random forest classifier\n",
    "rf = RandomForestClassifier()\n",
    "\n",
    "# Perform k-fold cross validation and grid search to find the optimal hyperparameters\n",
    "kfold = KFold(n_splits=5)\n",
    "grid_search = GridSearchCV(estimator=rf, param_grid=param_grid, cv=kfold)\n",
    "start = time.time()\n",
    "grid_search.fit(X_train, y_train)\n",
    "\n",
    "#Caluclating latency\n",
    "latency = time.time() - start\n",
    "\n",
    "# Get the best hyperparameters and the best estimator using grid search\n",
    "best_params = grid_search.best_params_\n",
    "best_estimator = grid_search.best_estimator_\n",
    "\n",
    "# Predict the target values for the test set\n",
    "y_pred_test = best_estimator.predict(X_test)\n",
    "\n",
    "# Get the predictions for the validation set\n",
    "y_val_pred = best_estimator.predict(X_val)\n",
    "\n",
    "#Caluclating precision, recall, accuracy for test data\n",
    "precision_rf_test = precision_score(y_test, y_pred_test, average='weighted')\n",
    "recall_rf_test = recall_score(y_test, y_pred_test, average='weighted')\n",
    "accuracy_rf_test = accuracy_score(y_test, y_pred_test)\n",
    "\n",
    "#Caluclating precision, recall, accuracy for validation data\n",
    "precision_rf_val = precision_score(y_val, y_val_pred, average='weighted')\n",
    "recall_rf_val = recall_score(y_val, y_val_pred, average='weighted')\n",
    "accuracy_rf_val = accuracy_score(y_val, y_val_pred)\n",
    "\n",
    "print(f\"Best hyperparameters: {best_params}\")\n",
    "print(f\"Test Precision: {precision_rf_test:.3f}\")\n",
    "print(f\"Test Recall: {recall_rf_test:.3f}\")\n",
    "print(f\"Test Accuracy: {accuracy_rf_test:.3f}\")\n",
    "print(f\"Latency: {latency:.3f}\")\n",
    "\n",
    "print(f\"Validation Precision: {precision_rf_val:.3f}\")\n",
    "print(f\"Validation Recall: {recall_rf_val:.3f}\")\n",
    "print(f\"Validation Accuracy: {accuracy_rf_val:.3f}\")\n",
    "print(f\"Latency: {latency:.3f}\")"
   ]
  },
  {
   "cell_type": "code",
   "execution_count": 20,
   "id": "6878d986",
   "metadata": {},
   "outputs": [
    {
     "name": "stdout",
     "output_type": "stream",
     "text": [
      "Best hyperparameters: {'C': 1, 'penalty': 'l2'}\n",
      "Test Precision: 0.877\n",
      "Test Recall: 0.867\n",
      "Test Accuracy: 0.867\n",
      "Latency: 0.001\n",
      "Validation Precision: 1.000\n",
      "Validation Recall: 1.000\n",
      "Validation Accuracy: 1.000\n",
      "Latency: 0.001\n"
     ]
    }
   ],
   "source": [
    "# Defining the hyperparameter grid\n",
    "from sklearn.model_selection import GridSearchCV\n",
    "param_grid = {'C': [0.001, 0.01, 0.1, 1, 10, 100, 1000],'penalty': ['l2']}\n",
    "\n",
    "# Defining the Logistic Regression model\n",
    "#max_iter parameter is set to 10000 so that it will allow to increase the maximum number of iterations.\n",
    "log_reg = LogisticRegression(max_iter=10000)\n",
    "\n",
    "# Creating the K-Fold cross-validation object\n",
    "kfold = KFold(n_splits=10, shuffle=True)\n",
    "\n",
    "# Conduct Grid Search to find the best hyperparameters\n",
    "grid_search = GridSearchCV(estimator=log_reg, param_grid=param_grid, cv=kfold, scoring='accuracy')\n",
    "grid_search.fit(X, Y)\n",
    "\n",
    "# Getting the best hyperparameters\n",
    "best_params = grid_search.best_params_\n",
    "\n",
    "# Getting the best logistic regression model\n",
    "best_log_reg = grid_search.best_estimator_\n",
    "\n",
    "# Evaluating the model's accuracy\n",
    "accuracy = grid_search.score(X, Y)\n",
    "\n",
    "# Predicting the target values for the test set\n",
    "pred_test = best_estimator.predict(X_test)\n",
    "\n",
    "# Getting inferential predictions for the validation dataset\n",
    "val_preds = grid_search.predict(X_val)\n",
    "\n",
    "#Caluclating precision, recall, accuracy for test data\n",
    "precision_lr_test = precision_score(y_test, pred_test, average='weighted')\n",
    "recall_lr_test = recall_score(y_test, pred_test, average='weighted')\n",
    "accuracy_lr_test = accuracy_score(y_test, pred_test)\n",
    "\n",
    "#Caluclating precision, recall, accuracy for validation data\n",
    "precision_lr_val = precision_score(y_val, val_preds, average='weighted')\n",
    "recall_lr_val = recall_score(y_val, val_preds, average='weighted')\n",
    "accuracy_lr_val = accuracy_score(y_val, val_preds)\n",
    "\n",
    "# Measuring the latency of the model\n",
    "start_time = time.time()\n",
    "best_log_reg.predict(X_test)\n",
    "latency = time.time() - start_time\n",
    "\n",
    "print(f\"Best hyperparameters: {best_params}\")\n",
    "print(f\"Test Precision: {precision_lr_test:.3f}\")\n",
    "print(f\"Test Recall: {recall_lr_test:.3f}\")\n",
    "print(f\"Test Accuracy: {accuracy_lr_test:.3f}\")\n",
    "print(f\"Latency: {latency:.3f}\")\n",
    "\n",
    "print(f\"Validation Precision: {precision_lr_val:.3f}\")\n",
    "print(f\"Validation Recall: {recall_lr_val:.3f}\")\n",
    "print(f\"Validation Accuracy: {accuracy_lr_val:.3f}\")\n",
    "print(f\"Latency: {latency:.3f}\")"
   ]
  },
  {
   "cell_type": "code",
   "execution_count": 21,
   "id": "349a724e",
   "metadata": {},
   "outputs": [
    {
     "name": "stdout",
     "output_type": "stream",
     "text": [
      "Best hyperparameters: {'C': 1, 'penalty': 'l2'}\n",
      "Test Precision: 0.970\n",
      "Test Recall: 0.967\n",
      "Test Accuracy: 0.967\n",
      "Latency: 5.825\n",
      "Validation Precision: 1.000\n",
      "Validation Recall: 1.000\n",
      "Validation Accuracy: 1.000\n",
      "Latency: 5.825\n"
     ]
    }
   ],
   "source": [
    "from sklearn.svm import SVC\n",
    "# Define the k-fold cross-validation object\n",
    "kfold = KFold(n_splits=5, shuffle=True)\n",
    "\n",
    "# Define the grid of hyperparameters to search\n",
    "param_grid = {'C': [0.1, 1, 10, 100], 'gamma': [1, 0.1, 0.01, 0.001]}\n",
    "\n",
    "# Create an instance of the SVM classifier\n",
    "svm = SVC(kernel='rbf')\n",
    "\n",
    "# Create an instance of the GridSearchCV class\n",
    "grid_search = GridSearchCV(estimator=svm, param_grid=param_grid, cv=kfold, n_jobs=-1)\n",
    "\n",
    "# Train the model using grid search\n",
    "start = time.time()\n",
    "grid_search.fit(X_train, y_train)\n",
    "end = time.time()\n",
    "\n",
    "# Measuring the latency of the model\n",
    "latency = end - start\n",
    "\n",
    "# Predict on the test set\n",
    "y_preds = grid_search.predict(X_test)\n",
    "\n",
    "# Predict on the validation set\n",
    "y_val_preds = grid_search.predict(X_val)\n",
    "\n",
    "\n",
    "#Caluclating precision, recall, accuracy for test data\n",
    "precision_svm_test = precision_score(y_test, y_preds, average='weighted')\n",
    "recall_svm_test = recall_score(y_test, y_preds, average='weighted')\n",
    "accuracy_svm_test = accuracy_score(y_test, y_preds)\n",
    "\n",
    "\n",
    "#Caluclating precision, recall, accuracy for validation data\n",
    "precision_svm_val = precision_score(y_val, y_val_preds, average='weighted')\n",
    "recall_svm_val = recall_score(y_val, y_val_preds, average='weighted')\n",
    "accuracy_svm_val = accuracy_score(y_val, y_val_preds)\n",
    "\n",
    "print(f\"Best hyperparameters: {best_params}\")\n",
    "print(f\"Test Precision: {precision_svm_test:.3f}\")\n",
    "print(f\"Test Recall: {recall_svm_test:.3f}\")\n",
    "print(f\"Test Accuracy: {accuracy_svm_test:.3f}\")\n",
    "print(f\"Latency: {latency:.3f}\")\n",
    "\n",
    "print(f\"Validation Precision: {precision_svm_val:.3f}\")\n",
    "print(f\"Validation Recall: {recall_svm_val:.3f}\")\n",
    "print(f\"Validation Accuracy: {accuracy_svm_val:.3f}\")\n",
    "print(f\"Latency: {latency:.3f}\")"
   ]
  },
  {
   "cell_type": "code",
   "execution_count": 22,
   "id": "60a3994c",
   "metadata": {},
   "outputs": [],
   "source": [
    "#Comparing the test data results and validation data results for 60, 20, 20 ratio\n",
    "\n",
    "#When it comes to random forest and SVM model test data got more accuracy than validation data but with logistic regression validation data results are slightly higher"
   ]
  },
  {
   "cell_type": "code",
   "execution_count": 23,
   "id": "3b10c1e9",
   "metadata": {},
   "outputs": [],
   "source": [
    "#Comparing the accuracy, precision and recall for test data 60, 20, 20 ratio\n",
    "\n",
    "#When we compare the test data results of 3 models that is Random forest, Logistic regression and SVM we can see that the results are approximately equal for three models but SVM model got bit higher accuracy and precision, so for test data SVM model is performing good and when it comes to latency logistic regression is very fast."
   ]
  },
  {
   "cell_type": "code",
   "execution_count": 24,
   "id": "fdb36d92",
   "metadata": {},
   "outputs": [],
   "source": [
    "#Comparing the accuracy, precision and recall for Validation data 60, 20, 20 ratio\n",
    "\n",
    "#When we compare the validation data results of 3 models that is Random forest, Logistic regression and SVM we can see that the results are approximately equal for three models but logistic regression model got bit higher accuracy and precision, so for validation data SVM model is performing good and when it comes to latency logistic regression is very fast."
   ]
  },
  {
   "cell_type": "code",
   "execution_count": 25,
   "id": "4964b394",
   "metadata": {},
   "outputs": [
    {
     "name": "stdout",
     "output_type": "stream",
     "text": [
      "Training set shape:  (120, 4) (120,)\n",
      "Validation set shape:  (15, 4) (15,)\n",
      "Test set shape:  (15, 4) (15,)\n"
     ]
    }
   ],
   "source": [
    "#Splitting dataset with a ratio of 80% for training, 10% for validation, and 10% for testing\n",
    "# Split the data into 80% training and 20% validation and testing\n",
    "X_train1, X_val1_and_test1, y_train1, y_val1_and_test1 = train_test_split(X, Y, test_size=0.2)\n",
    "\n",
    "# Split the 20% validation and testing data into 10% validation and 10% testing\n",
    "X_val1, X_test1, y_val1, y_test1 = train_test_split(X_val1_and_test1, y_val1_and_test1, test_size=0.5)\n",
    "\n",
    "# Verify the shapes of the resulting sets\n",
    "print(\"Training set shape: \", X_train1.shape, y_train1.shape)\n",
    "print(\"Validation set shape: \", X_val1.shape, y_val1.shape)\n",
    "print(\"Test set shape: \", X_test1.shape, y_test1.shape)"
   ]
  },
  {
   "cell_type": "code",
   "execution_count": 26,
   "id": "11e4815a",
   "metadata": {},
   "outputs": [
    {
     "name": "stdout",
     "output_type": "stream",
     "text": [
      "Best hyperparameters: {'criterion': 'gini', 'max_depth': 3, 'n_estimators': 5}\n",
      "Test Precision: 0.947\n",
      "Test Recall: 0.933\n",
      "Test Accuracy: 0.933\n",
      "Latency: 7.723\n",
      "Validation Precision: 0.944\n",
      "Validation Recall: 0.933\n",
      "Validation Accuracy: 0.933\n",
      "Latency: 7.723\n"
     ]
    }
   ],
   "source": [
    "#Performing random forest algorirhthm\n",
    "# Defining the hyperparameters grid\n",
    "param_grid = {\"n_estimators\": [5, 10, 15, 20, 25],\"max_depth\": [3, 5, 7, 9, None],\"criterion\": [\"gini\", \"entropy\"]}\n",
    "\n",
    "# Initialize the random forest classifier\n",
    "rf = RandomForestClassifier()\n",
    "\n",
    "# Perform k-fold cross validation and grid search to find the optimal hyperparameters\n",
    "kfold = KFold(n_splits=5)\n",
    "grid_search = GridSearchCV(estimator=rf, param_grid=param_grid, cv=kfold)\n",
    "start = time.time()\n",
    "grid_search.fit(X_train1, y_train1)\n",
    "\n",
    "# Measuring the latency of the model\n",
    "latency = time.time() - start\n",
    "\n",
    "# Get the best hyperparameters and the best estimator\n",
    "best_params = grid_search.best_params_\n",
    "best_estimator = grid_search.best_estimator_\n",
    "\n",
    "# Predict the target values for the test set\n",
    "y_pred_test1 = best_estimator.predict(X_test1)\n",
    "\n",
    "# Get the predictions for the validation set\n",
    "y_val1_pred = best_estimator.predict(X_val1)\n",
    "\n",
    "#Caluclating precision, recall, accuracy for test data\n",
    "precision_test1 = precision_score(y_test1, y_pred_test1, average='weighted')\n",
    "recall_test1 = recall_score(y_test1, y_pred_test1, average='weighted')\n",
    "accuracy_test1 = accuracy_score(y_test1, y_pred_test1)\n",
    "\n",
    "#Caluclating precision, recall, accuracy for validation data\n",
    "precision_val1 = precision_score(y_val1, y_val1_pred, average='weighted')\n",
    "recall_val1 = recall_score(y_val1, y_val1_pred, average='weighted')\n",
    "accuracy_val1 = accuracy_score(y_val1, y_val1_pred)\n",
    "\n",
    "print(f\"Best hyperparameters: {best_params}\")\n",
    "print(f\"Test Precision: {precision_test1:.3f}\")\n",
    "print(f\"Test Recall: {recall_test1:.3f}\")\n",
    "print(f\"Test Accuracy: {accuracy_test1:.3f}\")\n",
    "print(f\"Latency: {latency:.3f}\")\n",
    "\n",
    "print(f\"Validation Precision: {precision_val1:.3f}\")\n",
    "print(f\"Validation Recall: {recall_val1:.3f}\")\n",
    "print(f\"Validation Accuracy: {accuracy_val1:.3f}\")\n",
    "print(f\"Latency: {latency:.3f}\")"
   ]
  },
  {
   "cell_type": "code",
   "execution_count": 27,
   "id": "fdc5b188",
   "metadata": {},
   "outputs": [
    {
     "name": "stdout",
     "output_type": "stream",
     "text": [
      "Best hyperparameters: {'C': 10, 'penalty': 'l2'}\n",
      "Test Precision: 0.947\n",
      "Test Recall: 0.933\n",
      "Test Accuracy: 0.933\n",
      "Latency: 0.002\n",
      "Validation Precision: 0.944\n",
      "Validation Recall: 0.933\n",
      "Validation Accuracy: 0.933\n",
      "Latency: 0.002\n"
     ]
    }
   ],
   "source": [
    "# Define the hyperparameter grid\n",
    "from sklearn.model_selection import GridSearchCV\n",
    "param_grid = {'C': [0.001, 0.01, 0.1, 1, 10, 100, 1000],'penalty': ['l2']}\n",
    "\n",
    "# Define the Logistic Regression model\n",
    "#max_iter parameter is set to 10000 so that it will allow to increase the maximum number of iterations.\n",
    "log_reg = LogisticRegression(max_iter=10000)\n",
    "\n",
    "# Create the K-Fold cross-validation object\n",
    "kfold = KFold(n_splits=10, shuffle=True)\n",
    "\n",
    "# Conduct Grid Search to find the best hyperparameters\n",
    "grid_search = GridSearchCV(estimator=log_reg, param_grid=param_grid, cv=kfold, scoring='accuracy')\n",
    "grid_search.fit(X, Y)\n",
    "\n",
    "# Get the best hyperparameters\n",
    "best_params = grid_search.best_params_\n",
    "\n",
    "# Get the best logistic regression model\n",
    "best_log_reg = grid_search.best_estimator_\n",
    "\n",
    "# Evaluate the model's accuracy\n",
    "accuracy = grid_search.score(X, Y)\n",
    "\n",
    "# Predict the target values for the test set\n",
    "pred_test1 = best_estimator.predict(X_test1)\n",
    "\n",
    "# Getting inferential predictions for the validation dataset\n",
    "val1_preds = grid_search.predict(X_val1)\n",
    "\n",
    "#Caluclating precision, recall, accuracy for test data\n",
    "precision_test1 = precision_score(y_test1, pred_test1, average='weighted')\n",
    "recall_test1 = recall_score(y_test1, pred_test1, average='weighted')\n",
    "accuracy_test1 = accuracy_score(y_test1, pred_test1)\n",
    "\n",
    "#Caluclating precision, recall, accuracy for validation data\n",
    "precision_val1 = precision_score(y_val1, val1_preds, average='weighted')\n",
    "recall_val1 = recall_score(y_val1, val1_preds, average='weighted')\n",
    "accuracy_val1 = accuracy_score(y_val1, val1_preds)\n",
    "\n",
    "# Measuring the latency of the model\n",
    "start_time = time.time()\n",
    "best_log_reg.predict(X_test1)\n",
    "latency = time.time() - start_time\n",
    "\n",
    "print(f\"Best hyperparameters: {best_params}\")\n",
    "print(f\"Test Precision: {precision_test1:.3f}\")\n",
    "print(f\"Test Recall: {recall_test1:.3f}\")\n",
    "print(f\"Test Accuracy: {accuracy_test1:.3f}\")\n",
    "print(f\"Latency: {latency:.3f}\")\n",
    "\n",
    "print(f\"Validation Precision: {precision_val1:.3f}\")\n",
    "print(f\"Validation Recall: {recall_val1:.3f}\")\n",
    "print(f\"Validation Accuracy: {accuracy_val1:.3f}\")\n",
    "print(f\"Latency: {latency:.3f}\")"
   ]
  },
  {
   "cell_type": "code",
   "execution_count": 28,
   "id": "671ebc95",
   "metadata": {},
   "outputs": [
    {
     "name": "stdout",
     "output_type": "stream",
     "text": [
      "Best hyperparameters: {'C': 10, 'penalty': 'l2'}\n",
      "Test Precision: 0.947\n",
      "Test Recall: 0.933\n",
      "Test Accuracy: 0.933\n",
      "Latency: 0.179\n",
      "Validation Precision: 0.944\n",
      "Validation Recall: 0.933\n",
      "Validation Accuracy: 0.933\n",
      "Latency: 0.179\n"
     ]
    }
   ],
   "source": [
    "from sklearn.svm import SVC\n",
    "# Define the k-fold cross-validation object\n",
    "kfold = KFold(n_splits=5, shuffle=True)\n",
    "\n",
    "# Define the grid of hyperparameters to search\n",
    "param_grid = {'C': [0.1, 1, 10, 100], 'gamma': [1, 0.1, 0.01, 0.001]}\n",
    "\n",
    "# Create an instance of the SVM classifier\n",
    "svm = SVC(kernel='rbf')\n",
    "\n",
    "# Create an instance of the GridSearchCV class\n",
    "grid_search = GridSearchCV(estimator=svm, param_grid=param_grid, cv=kfold, n_jobs=-1)\n",
    "\n",
    "# Train the model using grid search\n",
    "start = time.time()\n",
    "grid_search.fit(X_train1, y_train1)\n",
    "end = time.time()\n",
    "# Measuring the latency of the model\n",
    "latency = end - start\n",
    "\n",
    "# Predict on the test set\n",
    "y_preds1 = grid_search.predict(X_test1)\n",
    "\n",
    "# Predict on the validation set\n",
    "y_val1_preds = grid_search.predict(X_val1)\n",
    "\n",
    "#Caluclating precision, recall, accuracy for test data\n",
    "precision_test1 = precision_score(y_test1, y_preds1, average='weighted')\n",
    "recall_test1 = recall_score(y_test1, y_preds1, average='weighted')\n",
    "accuracy_test1 = accuracy_score(y_test1, y_preds1)\n",
    "\n",
    "#Caluclating precision, recall, accuracy for validation data\n",
    "precision_val1 = precision_score(y_val1, y_val1_preds, average='weighted')\n",
    "recall_val1 = recall_score(y_val1, y_val1_preds, average='weighted')\n",
    "accuracy_val1 = accuracy_score(y_val1, y_val1_preds)\n",
    "\n",
    "print(f\"Best hyperparameters: {best_params}\")\n",
    "print(f\"Test Precision: {precision_test1:.3f}\")\n",
    "print(f\"Test Recall: {recall_test1:.3f}\")\n",
    "print(f\"Test Accuracy: {accuracy_test1:.3f}\")\n",
    "print(f\"Latency: {latency:.3f}\")\n",
    "\n",
    "print(f\"Validation Precision: {precision_val1:.3f}\")\n",
    "print(f\"Validation Recall: {recall_val1:.3f}\")\n",
    "print(f\"Validation Accuracy: {accuracy_val1:.3f}\")\n",
    "print(f\"Latency: {latency:.3f}\")"
   ]
  },
  {
   "cell_type": "code",
   "execution_count": 29,
   "id": "08053baa",
   "metadata": {},
   "outputs": [],
   "source": [
    "#Comparing the test data results and validation data results for 60, 20, 20 ratio\n",
    "\n",
    "#In this raito validation data got higher accuracy for the three models when compared to the test data"
   ]
  },
  {
   "cell_type": "code",
   "execution_count": 30,
   "id": "84fd8862",
   "metadata": {},
   "outputs": [],
   "source": [
    "#Comparing the accuracy, precision and recall for test data for 80, 10, 10 ratio\n",
    "\n",
    "#When we compare the test data results of 3 models that is Random forest, Logistic regression and SVM we can see that the results are approximately equal for three models but SVM model got bit higher accuracy and precision, so for test data SVM model is performing good and when it comes to latency logistic regression is very fast."
   ]
  },
  {
   "cell_type": "code",
   "execution_count": 31,
   "id": "cdbd8700",
   "metadata": {},
   "outputs": [],
   "source": [
    "#Comparing the accuracy, precision and recall for validation data for 80, 10, 10 ratio\n",
    "\n",
    "#When we compare the validation data results of 3 models that is Random forest, Logistic regression and SVM we can see that the results are approximately equal for three models but SVM, random forest models got bit higher accuracy and precision, so for validation data SVM model and random forest model is performing good and when it comes to latency logistic regression is very fast."
   ]
  },
  {
   "cell_type": "code",
   "execution_count": 32,
   "id": "9e347f7d",
   "metadata": {},
   "outputs": [],
   "source": [
    "#Comparing ratios 60,20,20 : 80,10,10\n",
    "\n",
    "#When compared with the ratios the results for test data when split into 60,20,20 got better results than compared to the 80,10,10 split but when it comes to validation data results 80,10,10 split got better results. Totally it depends on the trainig of the model and for this data sets from the above results 60,20,20 ratio performed slightly better than 80,10,10 ratio."
   ]
  }
 ],
 "metadata": {
  "kernelspec": {
   "display_name": "Python 3 (ipykernel)",
   "language": "python",
   "name": "python3"
  },
  "language_info": {
   "codemirror_mode": {
    "name": "ipython",
    "version": 3
   },
   "file_extension": ".py",
   "mimetype": "text/x-python",
   "name": "python",
   "nbconvert_exporter": "python",
   "pygments_lexer": "ipython3",
   "version": "3.9.13"
  }
 },
 "nbformat": 4,
 "nbformat_minor": 5
}
